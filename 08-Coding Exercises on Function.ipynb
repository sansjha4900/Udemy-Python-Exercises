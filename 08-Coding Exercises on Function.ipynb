{
 "cells": [
  {
   "cell_type": "markdown",
   "id": "d1d87afd",
   "metadata": {},
   "source": [
    "<b>1. Write a function called myfunc that prints \"Hello World\"."
   ]
  },
  {
   "cell_type": "code",
   "execution_count": 1,
   "id": "d6b7ed93",
   "metadata": {},
   "outputs": [],
   "source": [
    "def myfunc():\n",
    "    print (\"Hello World\")"
   ]
  },
  {
   "cell_type": "code",
   "execution_count": 3,
   "id": "9dff0591",
   "metadata": {},
   "outputs": [
    {
     "name": "stdout",
     "output_type": "stream",
     "text": [
      "Hello World\n"
     ]
    }
   ],
   "source": [
    "myfunc()"
   ]
  },
  {
   "cell_type": "markdown",
   "id": "5b80d5b8",
   "metadata": {},
   "source": [
    "<b>2. Define a function myfunc that takes in a name, and prints \"Hello Name:."
   ]
  },
  {
   "cell_type": "code",
   "execution_count": 15,
   "id": "bf481cc8",
   "metadata": {},
   "outputs": [],
   "source": [
    "def myfunc(name):\n",
    "    print (\"Hello {}\".format(name))"
   ]
  },
  {
   "cell_type": "code",
   "execution_count": 19,
   "id": "e4a59067",
   "metadata": {},
   "outputs": [
    {
     "name": "stdout",
     "output_type": "stream",
     "text": [
      "Hello Name\n"
     ]
    }
   ],
   "source": [
    "myfunc(\"Name\")"
   ]
  },
  {
   "cell_type": "markdown",
   "id": "1804133f",
   "metadata": {},
   "source": [
    "<b>3. Define a function to take bool values, if True return 'Hello', if False return 'Goodbye'."
   ]
  },
  {
   "cell_type": "code",
   "execution_count": 20,
   "id": "880ed907",
   "metadata": {},
   "outputs": [],
   "source": [
    "def myfunc (a):\n",
    "    if a == True:\n",
    "        return \"Hello\"\n",
    "    else:\n",
    "        return \"Goodbye\""
   ]
  },
  {
   "cell_type": "code",
   "execution_count": 21,
   "id": "a2af3492",
   "metadata": {},
   "outputs": [
    {
     "data": {
      "text/plain": [
       "'Hello'"
      ]
     },
     "execution_count": 21,
     "metadata": {},
     "output_type": "execute_result"
    }
   ],
   "source": [
    "myfunc(True)"
   ]
  },
  {
   "cell_type": "code",
   "execution_count": 22,
   "id": "4e01b629",
   "metadata": {},
   "outputs": [
    {
     "data": {
      "text/plain": [
       "'Goodbye'"
      ]
     },
     "execution_count": 22,
     "metadata": {},
     "output_type": "execute_result"
    }
   ],
   "source": [
    "myfunc(False)"
   ]
  },
  {
   "cell_type": "markdown",
   "id": "b5378466",
   "metadata": {},
   "source": [
    "<b>4. Define function taking 3 arguements x,y,z. If z true, return x; if z false, return y."
   ]
  },
  {
   "cell_type": "code",
   "execution_count": 23,
   "id": "29713aa1",
   "metadata": {},
   "outputs": [],
   "source": [
    "def myfunc(x,y,z):\n",
    "    if z == True:\n",
    "        return x\n",
    "    else:\n",
    "        return y"
   ]
  },
  {
   "cell_type": "code",
   "execution_count": 24,
   "id": "f88b4595",
   "metadata": {},
   "outputs": [
    {
     "data": {
      "text/plain": [
       "'a'"
      ]
     },
     "execution_count": 24,
     "metadata": {},
     "output_type": "execute_result"
    }
   ],
   "source": [
    "myfunc(\"a\",\"b\",True)"
   ]
  },
  {
   "cell_type": "code",
   "execution_count": 25,
   "id": "f31bf8b2",
   "metadata": {},
   "outputs": [
    {
     "data": {
      "text/plain": [
       "'b'"
      ]
     },
     "execution_count": 25,
     "metadata": {},
     "output_type": "execute_result"
    }
   ],
   "source": [
    "myfunc(\"a\",\"b\",False)"
   ]
  },
  {
   "cell_type": "markdown",
   "id": "70ccfab4",
   "metadata": {},
   "source": [
    "<b>5. Define a function to take 2 arguements & return their sum."
   ]
  },
  {
   "cell_type": "code",
   "execution_count": 26,
   "id": "450a4d2c",
   "metadata": {},
   "outputs": [],
   "source": [
    "def myfunc(num1,num2):\n",
    "    return num1 + num2"
   ]
  },
  {
   "cell_type": "code",
   "execution_count": 27,
   "id": "e3acbddc",
   "metadata": {},
   "outputs": [
    {
     "data": {
      "text/plain": [
       "15"
      ]
     },
     "execution_count": 27,
     "metadata": {},
     "output_type": "execute_result"
    }
   ],
   "source": [
    "myfunc(5,10)"
   ]
  },
  {
   "cell_type": "markdown",
   "id": "0dc14801",
   "metadata": {},
   "source": [
    "<b>6. Define a function with one argument, chcek for even. If pass return true else false."
   ]
  },
  {
   "cell_type": "code",
   "execution_count": 32,
   "id": "2c626c75",
   "metadata": {},
   "outputs": [],
   "source": [
    "def is_even(num):\n",
    "    if num % 2 == 0:\n",
    "        return True\n",
    "    else:\n",
    "        return False"
   ]
  },
  {
   "cell_type": "code",
   "execution_count": 33,
   "id": "d11a3840",
   "metadata": {},
   "outputs": [
    {
     "data": {
      "text/plain": [
       "False"
      ]
     },
     "execution_count": 33,
     "metadata": {},
     "output_type": "execute_result"
    }
   ],
   "source": [
    "is_even(5)"
   ]
  },
  {
   "cell_type": "code",
   "execution_count": 34,
   "id": "46b5e027",
   "metadata": {},
   "outputs": [
    {
     "data": {
      "text/plain": [
       "True"
      ]
     },
     "execution_count": 34,
     "metadata": {},
     "output_type": "execute_result"
    }
   ],
   "source": [
    "is_even(10)"
   ]
  },
  {
   "cell_type": "markdown",
   "id": "62f3e34d",
   "metadata": {},
   "source": [
    "<b>7. Define a function with 2 arguments, if 1st > 2nd return True, if 1st <= return False."
   ]
  },
  {
   "cell_type": "code",
   "execution_count": 35,
   "id": "2446c777",
   "metadata": {},
   "outputs": [],
   "source": [
    "def is_greater (a,b):\n",
    "    if a > b:\n",
    "        return True\n",
    "    elif a <= b:\n",
    "        return False"
   ]
  },
  {
   "cell_type": "code",
   "execution_count": 36,
   "id": "072c1f5e",
   "metadata": {},
   "outputs": [
    {
     "data": {
      "text/plain": [
       "True"
      ]
     },
     "execution_count": 36,
     "metadata": {},
     "output_type": "execute_result"
    }
   ],
   "source": [
    "is_greater(10,5)"
   ]
  },
  {
   "cell_type": "code",
   "execution_count": 37,
   "id": "768f26ae",
   "metadata": {},
   "outputs": [
    {
     "data": {
      "text/plain": [
       "False"
      ]
     },
     "execution_count": 37,
     "metadata": {},
     "output_type": "execute_result"
    }
   ],
   "source": [
    "is_greater(5,5)"
   ]
  },
  {
   "cell_type": "code",
   "execution_count": 38,
   "id": "2bf0d11b",
   "metadata": {},
   "outputs": [
    {
     "data": {
      "text/plain": [
       "False"
      ]
     },
     "execution_count": 38,
     "metadata": {},
     "output_type": "execute_result"
    }
   ],
   "source": [
    "is_greater(5,10)"
   ]
  },
  {
   "cell_type": "markdown",
   "id": "69bf5cdb",
   "metadata": {},
   "source": [
    "<b>8. Define a function which takes in arbitrary no. of args & returns it's sum.\n",
    "  "
   ]
  },
  {
   "cell_type": "code",
   "execution_count": 39,
   "id": "924e94a0",
   "metadata": {},
   "outputs": [],
   "source": [
    "def myfunc(*args):\n",
    "    return sum(args)"
   ]
  },
  {
   "cell_type": "code",
   "execution_count": 40,
   "id": "87d78774",
   "metadata": {},
   "outputs": [
    {
     "data": {
      "text/plain": [
       "15"
      ]
     },
     "execution_count": 40,
     "metadata": {},
     "output_type": "execute_result"
    }
   ],
   "source": [
    "myfunc(5,10)"
   ]
  },
  {
   "cell_type": "code",
   "execution_count": 48,
   "id": "b32fac67",
   "metadata": {},
   "outputs": [
    {
     "data": {
      "text/plain": [
       "2"
      ]
     },
     "execution_count": 48,
     "metadata": {},
     "output_type": "execute_result"
    }
   ],
   "source": [
    "myfunc(5,2,3,6)"
   ]
  },
  {
   "cell_type": "markdown",
   "id": "e331cb6b",
   "metadata": {},
   "source": [
    "<b>9. Define a function taking arbitrary no. of args & returns a list of only even args."
   ]
  },
  {
   "cell_type": "code",
   "execution_count": 51,
   "id": "fd83e085",
   "metadata": {},
   "outputs": [],
   "source": [
    "def myfunc(*args):\n",
    "    mylist = []\n",
    "    for num in args:\n",
    "        if num%2 == 0:\n",
    "            mylist.append(num)\n",
    "        else:\n",
    "            continue\n",
    "    return mylist"
   ]
  },
  {
   "cell_type": "code",
   "execution_count": 52,
   "id": "ed8bfed4",
   "metadata": {},
   "outputs": [
    {
     "data": {
      "text/plain": [
       "[2, 6]"
      ]
     },
     "execution_count": 52,
     "metadata": {},
     "output_type": "execute_result"
    }
   ],
   "source": [
    "myfunc(5,2,3,6)"
   ]
  },
  {
   "cell_type": "code",
   "execution_count": 53,
   "id": "c8fa0bd5",
   "metadata": {},
   "outputs": [],
   "source": [
    "def myfunc(*args):\n",
    "    mylist = [num for num in args if num%2 == 0]\n",
    "    return mylist"
   ]
  },
  {
   "cell_type": "code",
   "execution_count": 54,
   "id": "042a8b26",
   "metadata": {},
   "outputs": [
    {
     "data": {
      "text/plain": [
       "[2, 6]"
      ]
     },
     "execution_count": 54,
     "metadata": {},
     "output_type": "execute_result"
    }
   ],
   "source": [
    "myfunc(5,2,3,6)"
   ]
  },
  {
   "cell_type": "markdown",
   "id": "b592148b",
   "metadata": {},
   "source": [
    "<b>10. Define a function taking a string, & returns same string with even letter uppercased & odd letter lowercased."
   ]
  },
  {
   "cell_type": "code",
   "execution_count": 59,
   "id": "7572e67d",
   "metadata": {},
   "outputs": [],
   "source": [
    "def myfunc(word):\n",
    "    out = []\n",
    "    \n",
    "    for i in range(len(word)):\n",
    "        if i%2==0:\n",
    "            out.append(word[i].lower())\n",
    "        else: \n",
    "            out.append(word[i].upper())\n",
    " \n",
    "    return ''.join(out)"
   ]
  },
  {
   "cell_type": "code",
   "execution_count": 60,
   "id": "7ca33130",
   "metadata": {},
   "outputs": [
    {
     "data": {
      "text/plain": [
       "'aNtHrOpHoMoRpHiSm'"
      ]
     },
     "execution_count": 60,
     "metadata": {},
     "output_type": "execute_result"
    }
   ],
   "source": [
    "myfunc(\"Anthrophomorphism\")"
   ]
  },
  {
   "cell_type": "code",
   "execution_count": 61,
   "id": "9de02aeb",
   "metadata": {},
   "outputs": [
    {
     "data": {
      "text/plain": [
       "'aPpLe'"
      ]
     },
     "execution_count": 61,
     "metadata": {},
     "output_type": "execute_result"
    }
   ],
   "source": [
    "myfunc(\"Apple\")"
   ]
  },
  {
   "cell_type": "code",
   "execution_count": null,
   "id": "c559afbe",
   "metadata": {},
   "outputs": [],
   "source": []
  }
 ],
 "metadata": {
  "kernelspec": {
   "display_name": "Python 3",
   "language": "python",
   "name": "python3"
  },
  "language_info": {
   "codemirror_mode": {
    "name": "ipython",
    "version": 3
   },
   "file_extension": ".py",
   "mimetype": "text/x-python",
   "name": "python",
   "nbconvert_exporter": "python",
   "pygments_lexer": "ipython3",
   "version": "3.8.8"
  }
 },
 "nbformat": 4,
 "nbformat_minor": 5
}
